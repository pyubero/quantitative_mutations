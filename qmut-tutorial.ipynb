{
 "cells": [
  {
   "cell_type": "markdown",
   "metadata": {},
   "source": [
    "# Quantitative mutations using `qmut`\n",
    "The package qmut contains mainly a class called QuantitativeMutation to enable the simulation of quantitative mutations of whole genome metabolic reconstructions. \n",
    "\n",
    "## Installation\n",
    " 1. Check that you have `cobrapy` installed in your environment\n",
    " 2. Download and copy the `\\cobrapy_qmut` folder in your working directory.\n",
    "\n",
    "\n",
    "## Turotial\n",
    "In this tutorial we will show the main applications and methods of the QuantiativeMutation objects, briefly:\n",
    "\n",
    "\n",
    "1. Load a metabolic model and create its QuantitativeMutation object\n",
    "2. Using `Q.optimize()` and `Q.slim_optimize()` to find solutions and biomass production rate, respectively.\n",
    "3. Generating random media following the protocol of [Shlomi et al.](https://pubmed.ncbi.nlm.nih.gov/17895423/) and applying it to `Q`.\n",
    "4. Compute maximal bounds of `Q` across a list of media. And save/load them with `Q.load_bounds()` and `Q.save_bounds()`\n",
    "5. Check how gene reaction rules are quantitatively interpreted.\n",
    "6. Working with relative gene dosages and quantitative mutations.\n",
    "7. Compute individuals, and populations in a single or in multiple processors.\n",
    "\n",
    "\n",
    "### 0. First load some useful packages"
   ]
  },
  {
   "cell_type": "code",
   "execution_count": 1,
   "metadata": {},
   "outputs": [],
   "source": [
    "import cobra\n",
    "import cobrapy_qmut\n",
    "import numpy as np\n",
    "from matplotlib import pyplot as plt"
   ]
  },
  {
   "cell_type": "markdown",
   "metadata": {},
   "source": [
    "### 1. Create qmut object and define standard medium and solver\n",
    "We create an instance of QuantitativeMutation using a path to a model file in json format."
   ]
  },
  {
   "cell_type": "code",
   "execution_count": 2,
   "metadata": {},
   "outputs": [
    {
     "name": "stdout",
     "output_type": "stream",
     "text": [
      "Academic license - for non-commercial use only - expires 2022-08-06\n",
      "Using license file /home/pyubero/gurobi.lic\n",
      "Loaded model iND750 from user file.\n",
      "Biomass reaction id is BIOMASS_SC4_bal\n",
      "The model has 750 genes and 1266 reactions.\n",
      "... number of exchange reactions:\t116\n",
      "... number of non-exchange reactions:\t1148\n"
     ]
    }
   ],
   "source": [
    "modelpath = './cobrapy_qmut/models/yeast_iND750.json'\n",
    "\n",
    "Q = cobrapy_qmut.QuantitativeMutation('./cobrapy_qmut/models/yeast_iND750.json', verbose=True)"
   ]
  },
  {
   "cell_type": "markdown",
   "metadata": {},
   "source": [
    "Check that `Q.model` can be accessed as a regular `cobra.Model`. For example, we can define the standard medium, and show the current solver used."
   ]
  },
  {
   "cell_type": "code",
   "execution_count": 3,
   "metadata": {},
   "outputs": [
    {
     "name": "stdout",
     "output_type": "stream",
     "text": [
      "Solver being used:  <class 'optlang.glpk_interface.Model'>\n",
      "\n",
      "Standard medium composition:\n",
      "     EX_na1_e\t9999.0\n",
      "     EX_nh4_e\t9999.0\n",
      "      EX_o2_e\t2.0\n",
      "      EX_pi_e\t9999.0\n",
      "     EX_so4_e\t9999.0\n",
      "     EX_co2_e\t9999.0\n",
      "  EX_glc__D_e\t20.0\n",
      "     EX_h2o_e\t9999.0\n",
      "       EX_k_e\t9999.0\n"
     ]
    }
   ],
   "source": [
    "std_medium = {}\n",
    "std_medium.update( {  'EX_o2_e'  : 2 } )\n",
    "std_medium.update( {  'EX_co2_e' : 9999 } )\n",
    "std_medium.update( {  'EX_k_e'   : 9999 } )\n",
    "std_medium.update( {  'EX_na1_e' : 9999 } )\n",
    "std_medium.update( {  'EX_nh4_e' : 9999 } )\n",
    "std_medium.update( {  'EX_pi_e'  : 9999 } )\n",
    "std_medium.update( {  'EX_so4_e' : 9999 } )\n",
    "std_medium.update( {  'EX_h2o_e' : 9999 } )\n",
    "std_medium.update( {  'EX_glc__D_e' : 20 } )\n",
    "\n",
    "Q.model.medium = std_medium\n",
    "Q.model.solver = 'glpk'\n",
    "\n",
    "print('Solver being used: ', type(Q.model.solver))\n",
    "print('')\n",
    "print('Standard medium composition:')\n",
    "_ = [ print('%13s\\t%1.1f' % (key, value)) for key, value in Q.model.medium.items() ]"
   ]
  },
  {
   "cell_type": "markdown",
   "metadata": {},
   "source": [
    "### 2. Optimizing the model\n",
    "We can also compute the biomass production, or any other optimization problem we may have set in different ways.\n",
    "\n",
    "- Both original methods from the `cobra.Model` object work exactly as expected.\n",
    "    1. Through the `cobra.Model.optimize()` method\n",
    "    2. Through `cobra.Model.slim_optimize()` \n",
    "\n",
    "\n",
    "- Directly as `Q` methods\n",
    "    3. Through Q's own `Q.optimize()`, work exactly as `Q.model.optimize()` for now...\n",
    "    4. Through `Q.slim_optimize()`, which always returns the biomass production rate.\n",
    "\n",
    "<> Although both return the same object, `Q`'s own method applies the current gene dosages within a model context manager. By now, there is no difference between both methods but only because our Q instance is unbounded, just as Q.model."
   ]
  },
  {
   "cell_type": "code",
   "execution_count": 4,
   "metadata": {},
   "outputs": [
    {
     "name": "stdout",
     "output_type": "stream",
     "text": [
      "Solution 1 objective value:  0.513926\n",
      "Solution 2 objective value:  0.513926\n",
      "Q.model    objective value:  0.513926\n",
      "Q's biomass production rate: 0.513926\n",
      "\n",
      "Are the fluxes of both solutions equal?  True\n"
     ]
    }
   ],
   "source": [
    "solution1 = Q.optimize()\n",
    "solution2 = Q.model.optimize()\n",
    "mu1 = Q.slim_optimize()\n",
    "mu2 = Q.model.slim_optimize()\n",
    "\n",
    "print('Solution 1 objective value:  %1.6f' % solution1.objective_value )\n",
    "print('Solution 2 objective value:  %1.6f' % solution2.objective_value )\n",
    "print('Q.model    objective value:  %1.6f' % mu1 )\n",
    "print(\"Q's biomass production rate: %1.6f\" % mu2 )\n",
    "print('')\n",
    "print('Are the fluxes of both solutions equal? ', all(solution1.fluxes==solution2.fluxes))"
   ]
  },
  {
   "cell_type": "markdown",
   "metadata": {},
   "source": [
    "However, `Q.slim_optimize()` will not always be faster"
   ]
  },
  {
   "cell_type": "code",
   "execution_count": 5,
   "metadata": {},
   "outputs": [
    {
     "name": "stdout",
     "output_type": "stream",
     "text": [
      "1.55 ms ± 11.4 µs per loop (mean ± std. dev. of 7 runs, 1000 loops each)\n",
      "1.58 ms ± 4.64 µs per loop (mean ± std. dev. of 7 runs, 1000 loops each)\n",
      "13.5 ms ± 2.5 ms per loop (mean ± std. dev. of 7 runs, 100 loops each)\n",
      "14.2 ms ± 133 µs per loop (mean ± std. dev. of 7 runs, 100 loops each)\n"
     ]
    }
   ],
   "source": [
    "%timeit Q.model.slim_optimize()\n",
    "%timeit Q.slim_optimize()\n",
    "\n",
    "%timeit Q.model.optimize()\n",
    "%timeit Q.optimize()"
   ]
  },
  {
   "cell_type": "markdown",
   "metadata": {},
   "source": [
    "### 3. Generate random media \n",
    "The function `Q.random_medium()` generates a random medium dict following the protocol originally from [Wang and Zhang] but widely used by [others].\n",
    "\n",
    "First define a minimal composition of all media.\n",
    "\n",
    "However, generating a random media **DOES NOT** mean using it!"
   ]
  },
  {
   "cell_type": "code",
   "execution_count": 6,
   "metadata": {},
   "outputs": [
    {
     "name": "stdout",
     "output_type": "stream",
     "text": [
      "Random medium composition:\n",
      "     EX_pap_e\t1.392\n",
      "  EX_rib__D_e\t13.664\n",
      "  EX_sbt__D_e\t1.116\n",
      "   EX_thmmp_e\t6.491\n",
      "  EX_thr__L_e\t5.063\n",
      "   EX_ttdca_e\t13.775\n",
      "     EX_cit_e\t1.088\n",
      "    EX_dann_e\t11.215\n",
      "    EX_dcyt_e\t14.384\n",
      "     EX_din_e\t16.331\n",
      "     EX_fum_e\t14.683\n",
      "     EX_gal_e\t10.480\n",
      "  EX_ile__L_e\t4.397\n",
      "       EX_k_e\t9999.000\n",
      "   EX_8aonn_e\t11.629\n",
      "      EX_o2_e\t2.000\n",
      "     EX_h2o_e\t9999.000\n",
      "     EX_co2_e\t9999.000\n",
      "     EX_nh4_e\t9999.000\n",
      "      EX_pi_e\t9999.000\n",
      "     EX_so4_e\t9999.000\n",
      "     EX_na1_e\t9999.000\n",
      "\n",
      "Is this random composition the same used in Q.model?  False\n"
     ]
    }
   ],
   "source": [
    "minimal_medium = {}        \n",
    "minimal_medium.update( {'EX_o2_e' :     2 }) #... oxygen\n",
    "minimal_medium.update( {'EX_h2o_e' : 9999 }) #... water\n",
    "minimal_medium.update( {'EX_co2_e' : 9999 }) #... carbon dioxyde\n",
    "minimal_medium.update( {'EX_nh4_e' : 9999 }) #... ammonia\n",
    "minimal_medium.update( {'EX_pi_e'  : 9999 }) #... phosphate\n",
    "minimal_medium.update( {'EX_so4_e' : 9999 }) #... sulphate\n",
    "minimal_medium.update( {'EX_k_e'   : 9999 }) #... potassium\n",
    "minimal_medium.update( {'EX_na1_e' : 9999 }) #... sodium\n",
    "\n",
    "rand_med = Q.random_medium(m = 0.1, minimal=minimal_medium, lower_lim=0, upper_lim = 20, method='linear')\n",
    "print('Random medium composition:')\n",
    "_ = [ print('%13s\\t%1.3f' % (key, value)) for key, value in rand_med.items() ]\n",
    "\n",
    "print('\\nIs this random composition the same used in Q.model? ', rand_med == Q.model.medium )"
   ]
  },
  {
   "cell_type": "markdown",
   "metadata": {},
   "source": [
    "### 3.1 Using context managers to temporally modify `Q.model`\n",
    "You can use context managers as with `cobrapy` to temporally modify the model,e.g. the medium, and quickly test its viability."
   ]
  },
  {
   "cell_type": "code",
   "execution_count": 7,
   "metadata": {},
   "outputs": [
    {
     "name": "stdout",
     "output_type": "stream",
     "text": [
      "Biomass production in the random medium:   0.5357\n",
      "Biomass production in the standard medium: 0.5139\n"
     ]
    }
   ],
   "source": [
    "with Q.model:\n",
    "    Q.set_medium( rand_med )\n",
    "    print('Biomass production in the random medium:   %1.4f' % Q.slim_optimize() )\n",
    "print('Biomass production in the standard medium: %1.4f' % Q.slim_optimize() )"
   ]
  },
  {
   "cell_type": "markdown",
   "metadata": {},
   "source": [
    "Now we will create a list of 100 random media and measure the growth rate in all of them."
   ]
  },
  {
   "cell_type": "code",
   "execution_count": 8,
   "metadata": {},
   "outputs": [
    {
     "name": "stderr",
     "output_type": "stream",
     "text": [
      "100%|██████████| 100/100 [00:05<00:00, 16.97it/s]"
     ]
    },
    {
     "name": "stdout",
     "output_type": "stream",
     "text": [
      "Finished computing.\n"
     ]
    },
    {
     "name": "stderr",
     "output_type": "stream",
     "text": [
      "\n"
     ]
    }
   ],
   "source": [
    "from tqdm import tqdm \n",
    "\n",
    "NMEDIA = 100\n",
    "\n",
    "mu           = np.zeros((NMEDIA,))\n",
    "random_media =[[],]*NMEDIA\n",
    "\n",
    "for jj in tqdm(range(NMEDIA)):\n",
    "    with Q.model:\n",
    "        new_medium       = Q.set_medium( Q.random_medium( m = 0.10, minimal = minimal_medium) )\n",
    "        mu[jj]           = Q.slim_optimize()\n",
    "        random_media[jj] = new_medium\n",
    "    \n",
    "print('Finished computing.')"
   ]
  },
  {
   "cell_type": "code",
   "execution_count": 9,
   "metadata": {},
   "outputs": [
    {
     "data": {
      "image/png": "[encoded data removed]",
      "text/plain": [
       "<Figure size 432x288 with 1 Axes>"
      ]
     },
     "metadata": {
      "needs_background": "light"
     },
     "output_type": "display_data"
    }
   ],
   "source": [
    "plt.figure( figsize=(6,4) )\n",
    "plt.hist(mu, density=True);\n",
    "plt.xlabel('Biomass production (mmol/gDW/h)')\n",
    "plt.ylabel('ePDF')\n",
    "plt.title('Growth rates in random media')\n",
    "plt.grid();\n",
    "plt.tight_layout();"
   ]
  },
  {
   "cell_type": "markdown",
   "metadata": {},
   "source": [
    "### 4. Compute maximal bounds (lower and upper) in the standard medium and across random media\n",
    "\n",
    "\n",
    "\n"
   ]
  },
  {
   "cell_type": "code",
   "execution_count": 10,
   "metadata": {},
   "outputs": [
    {
     "name": "stderr",
     "output_type": "stream",
     "text": [
      "100%|██████████| 1000/1000 [00:23<00:00, 43.47it/s]\n",
      "100%|██████████| 1000/1000 [00:24<00:00, 40.94it/s]\n"
     ]
    }
   ],
   "source": [
    "NSAMPLES       = 1_000 # 1000 samples in 50 processores takes about 25s each\n",
    "MEDIA_RICHNESS = 0.10  # media richness scales with the number of components with which the minimal media is suplemented\n",
    "\n",
    "# Initialize empty outputs\n",
    "bounds_std = np.nan*np.zeros( (2,Q.N_NEX_RXNS) )\n",
    "bounds_rnd = np.nan*np.zeros( (2,Q.N_NEX_RXNS) )\n",
    "\n",
    "# Generate NSAMPLES random media\n",
    "random_media_list   = [ Q.random_medium( m = MEDIA_RICHNESS, minimal = minimal_medium) for _ in range(NSAMPLES) ]\n",
    "standard_media_list = [ std_medium for _ in range(NSAMPLES) ]\n",
    "\n",
    "# Compute bounds in standard medium\n",
    "Q.compute_bounds(media_list  = standard_media_list, \n",
    "                 pfba        = True, \n",
    "                 nprocessors = 50, \n",
    "                 chunksize   = 20 )\n",
    "\n",
    "\n",
    "# Extract bounds found in standard medium\n",
    "bounds_std[0,:] = [Q.upper_bounds[rxn_id] for rxn_id in Q.NEX_RXNS]\n",
    "bounds_std[1,:] = [Q.lower_bounds[rxn_id] for rxn_id in Q.NEX_RXNS]\n",
    "\n",
    "\n",
    "\n",
    "# Compute bounds in random medium\n",
    "Q.compute_bounds(media_list  = random_media_list, \n",
    "                 pfba        = True, \n",
    "                 nprocessors = 50, \n",
    "                 chunksize   = 20 )\n",
    "\n",
    "# Extract bounds found in random media\n",
    "bounds_rnd[0,:] = [Q.upper_bounds[rxn_id] for rxn_id in Q.NEX_RXNS]\n",
    "bounds_rnd[1,:] = [Q.lower_bounds[rxn_id] for rxn_id in Q.NEX_RXNS]"
   ]
  },
  {
   "cell_type": "markdown",
   "metadata": {},
   "source": [
    "If we compare the bounds obtained in standard vs random media, we find that the ones obtained in random med. tend to be larger than those obtained in standard med. The exceptions we find are \n",
    "- not great deviations from the diagonal, and \n",
    "- probably a problem due to using a small number of samples. \n",
    "\n",
    "For serious computations please use at least $10^4$ samples."
   ]
  },
  {
   "cell_type": "code",
   "execution_count": 11,
   "metadata": {},
   "outputs": [
    {
     "data": {
      "image/png": "[encoded data removed]",
      "text/plain": [
       "<Figure size 600x400 with 1 Axes>"
      ]
     },
     "metadata": {
      "needs_background": "light"
     },
     "output_type": "display_data"
    }
   ],
   "source": [
    "plt.figure( figsize=(6,4) , dpi=100)\n",
    "\n",
    "plt.plot( bounds_std[0,:], bounds_rnd[0,:],'.', ms=3)\n",
    "plt.plot( bounds_std[1,:], bounds_rnd[1,:],'.', ms=3)\n",
    "plt.plot( bounds_std[0,:], bounds_std[0,:],'k', lw=0.5)\n",
    "plt.plot( bounds_std[1,:], bounds_std[1,:],'k', lw=0.5)\n",
    "plt.grid()\n",
    "plt.xlabel('Bounds in standard medium')\n",
    "plt.ylabel('Bounds in random media')\n",
    "plt.legend(('Upper','Lower'))\n",
    "\n",
    "plt.tight_layout();"
   ]
  },
  {
   "cell_type": "markdown",
   "metadata": {},
   "source": [
    "You can save the bounds with an explicit description as a .txt file using `Q.save_bounds()`..."
   ]
  },
  {
   "cell_type": "code",
   "execution_count": 12,
   "metadata": {},
   "outputs": [
    {
     "name": "stdout",
     "output_type": "stream",
     "text": [
      "Maxbounds exported as bounds_test.txt on 2022-02-16 18:27:21.771082.\n"
     ]
    }
   ],
   "source": [
    "Q.save_bounds('bounds_test.txt', description='This is only a toy file.')"
   ]
  },
  {
   "cell_type": "markdown",
   "metadata": {},
   "source": [
    "... and then load them using `Q.load_bounds()`.\n",
    "\n",
    "To check that they were loaded correctly, compare the bounds of a reaction before and after loading the .txt file."
   ]
  },
  {
   "cell_type": "code",
   "execution_count": 13,
   "metadata": {},
   "outputs": [
    {
     "name": "stdout",
     "output_type": "stream",
     "text": [
      "Upper bound of ACLSm: 1.4712\n",
      "Random value assigned: 0.6593\n",
      "Maxbounds loaded from bounds_10.0.csv on 2022-02-16 18:27:21.782826.\n",
      "Value after loading bounds: 11.2277\n",
      "\n",
      "Some description of the loaded file:\n",
      "nsamples=10000.\n"
     ]
    }
   ],
   "source": [
    "reaction = 'ACLSm'\n",
    "print('Upper bound of %s: %1.4f' % (reaction, Q.upper_bounds[reaction]) )\n",
    "Q.upper_bounds[reaction] = np.random.rand()\n",
    "\n",
    "print('Random value assigned: %1.4f' % Q.upper_bounds[reaction])\n",
    "\n",
    "# Load bounds\n",
    "out = Q.load_bounds('bounds_10.0.csv')\n",
    "\n",
    "print('Value after loading bounds: %1.4f' % Q.upper_bounds[reaction])\n",
    "print('')\n",
    "print('Some description of the loaded file:')\n",
    "print(out.split(';')[1])"
   ]
  },
  {
   "cell_type": "markdown",
   "metadata": {},
   "source": [
    "### 5. Observe the gene reaction rule translation in action\n",
    "All quantitative interpretation of gene reaction rules are stored as lambda functions in the dictionary `Q.GRR`.\n",
    "\n",
    "Here we show an example for a specific reaction."
   ]
  },
  {
   "cell_type": "code",
   "execution_count": 14,
   "metadata": {},
   "outputs": [
    {
     "name": "stdout",
     "output_type": "stream",
     "text": [
      "The complete gene reaction rule of CYOR_u6m is:\n",
      "YHR001W_A and YJL166W and YGR183C and YBL045C and YFR033C and YEL024W and Q0105 and YDR529C and YOR065W and YPR191W\n",
      "\n",
      "The list of genes involved is:\n",
      "  Identifier\t Name\tDosage\n",
      "  ----------\t ----\t------\n",
      "     YBL045C\t COR1\t1.000\n",
      "       Q0105\t  COB\t1.000\n",
      "     YFR033C\t QCR6\t1.000\n",
      "     YGR183C\t QCR9\t1.000\n",
      "     YDR529C\t QCR7\t1.000\n",
      "     YJL166W\t QCR8\t1.000\n",
      "   YHR001W_A\tQCR10\t1.000\n",
      "     YOR065W\t CYT1\t1.000\n",
      "     YPR191W\t QCR2\t1.000\n",
      "     YEL024W\t RIP1\t1.000\n",
      "\n",
      "By introducing these gene dosages in the GRR,\n",
      " \bresults in a relative flux of the reaction: 1.000\n"
     ]
    }
   ],
   "source": [
    "reaction = 'CYOR_u6m'\n",
    "\n",
    "print('The complete gene reaction rule of %s is:' % reaction)\n",
    "print(Q.model.reactions.get_by_id(reaction)._gene_reaction_rule)\n",
    "\n",
    "print('\\nThe list of genes involved is:')\n",
    "print('  %10s\\t%5s\\t%s' % ('Identifier', 'Name', 'Dosage'))\n",
    "print('  %10s\\t%5s\\t%s' % ('----------', '----', '------'))\n",
    "_=[print('  %10s\\t%5s\\t%1.3f' % (gene.id, gene.name, Q.gene_dosage[gene.id])) for gene in Q.model.reactions.get_by_id(reaction).genes]\n",
    "\n",
    "print('\\nBy introducing these gene dosages in the GRR,\\n',\n",
    "      '\\bresults in a relative flux of the reaction: %1.3f' % Q.GRR[reaction](Q) )"
   ]
  },
  {
   "cell_type": "markdown",
   "metadata": {},
   "source": [
    "### 6. Working with relative gene dosages\n",
    "In light of the previous data, lets try to modify the gene dosage of one of the genes involved in the reaction. As the previous reaction is only composed of \"AND\" statements, the relative flux of the reaction should be the minimum of the dosages of those genes.\n",
    "\n",
    "When calling a GRR lambda function, we need as first argument the object itself, this is because in general, we will only access these functions from within the object itself."
   ]
  },
  {
   "cell_type": "code",
   "execution_count": 15,
   "metadata": {},
   "outputs": [
    {
     "name": "stdout",
     "output_type": "stream",
     "text": [
      "Dosage of YPR191W: 0.562\n",
      "\n",
      "By introducing these gene dosages in the GRR,\n",
      " \bresults in a relative flux of the reaction: 0.562\n"
     ]
    }
   ],
   "source": [
    "Q.set_dosage('YPR191W', np.random.rand() )\n",
    "\n",
    "print('Dosage of YPR191W: %1.3f' % Q.gene_dosage['YPR191W'])\n",
    "print('\\nBy introducing these gene dosages in the GRR,\\n',\n",
    "      '\\bresults in a relative flux of the reaction: %1.3f' % Q.GRR[reaction](Q) )"
   ]
  },
  {
   "cell_type": "markdown",
   "metadata": {},
   "source": [
    "To set up a random genotype, although you can call `Q.set_dosage()` and iterate through all genes in `Q.GENES` you can also use `Q.set_genotype()`."
   ]
  },
  {
   "cell_type": "code",
   "execution_count": 16,
   "metadata": {},
   "outputs": [
    {
     "data": {
      "image/png": "[encoded data removed]",
      "text/plain": [
       "<Figure size 432x288 with 1 Axes>"
      ]
     },
     "metadata": {
      "needs_background": "light"
     },
     "output_type": "display_data"
    }
   ],
   "source": [
    "# Slow method:\n",
    "#_ = [Q.set_dosage(gene, np.random.rand()) for gene in Q.GENES]\n",
    "\n",
    "# Fast method:\n",
    "Q.set_genotype( np.random.rand(Q.N_GENES) )\n",
    "\n",
    "# Recover the genotype\n",
    "g = [ value for key, value in Q.gene_dosage.items() ]\n",
    "\n",
    "# Plot a histogram of gene dosages in the current individual\n",
    "plt.figure( figsize=(6,4) )\n",
    "plt.hist(g, bins=11, density=True)\n",
    "plt.xlabel('Gene dosage')\n",
    "plt.ylabel('ePDF')\n",
    "plt.title('Genotype distribution')\n",
    "plt.tight_layout();"
   ]
  },
  {
   "cell_type": "markdown",
   "metadata": {},
   "source": [
    "**WARNING:** Gene dosages can be modified any time (in and out of context managers), however their effect will not take place until a call to `Q.apply_dosage()`, which changes the model reaction bounds. We strongly advise to use **ALWAYS** this within a context manager."
   ]
  },
  {
   "cell_type": "code",
   "execution_count": 17,
   "metadata": {},
   "outputs": [
    {
     "name": "stdout",
     "output_type": "stream",
     "text": [
      "Biomass production before calling apply_dosage() : 0.5139\n",
      "Biomass production after calling apply_dosage()  : 0.0257\n",
      "Biomass production outside the context manager   : 0.5139\n"
     ]
    }
   ],
   "source": [
    "print('Biomass production before calling apply_dosage() : %1.4f' % Q.slim_optimize())\n",
    "\n",
    "with Q.model:\n",
    "    Q.apply_dosage()\n",
    "    print('Biomass production after calling apply_dosage()  : %1.4f' % Q.slim_optimize())\n",
    "\n",
    "print('Biomass production outside the context manager   : %1.4f' % Q.slim_optimize())\n"
   ]
  },
  {
   "cell_type": "markdown",
   "metadata": {},
   "source": [
    "To restore the genotype, you can call `Q.reset_dosage()`:"
   ]
  },
  {
   "cell_type": "code",
   "execution_count": 18,
   "metadata": {},
   "outputs": [
    {
     "name": "stdout",
     "output_type": "stream",
     "text": [
      "Biomass production before calling apply_dosage() : 0.5139\n",
      "Biomass production after calling reset_dosage()  : 0.5139\n",
      "Biomass production outside the context manager   : 0.5139\n"
     ]
    }
   ],
   "source": [
    "print('Biomass production before calling apply_dosage() : %1.4f' % Q.slim_optimize())\n",
    "\n",
    "\n",
    "Q.reset_dosage()\n",
    "with Q.model:\n",
    "    Q.apply_dosage()\n",
    "    print('Biomass production after calling reset_dosage()  : %1.4f' % Q.slim_optimize())\n",
    "\n",
    "print('Biomass production outside the context manager   : %1.4f' % Q.slim_optimize())\n"
   ]
  },
  {
   "cell_type": "markdown",
   "metadata": {},
   "source": [
    "### You can use the functions in the `QuantitativeMutation` object to generate random genotypes, and set their clipping values"
   ]
  },
  {
   "cell_type": "code",
   "execution_count": 19,
   "metadata": {},
   "outputs": [
    {
     "data": {
      "image/png": "[encoded data removed]",
      "text/plain": [
       "<Figure size 864x288 with 3 Axes>"
      ]
     },
     "metadata": {
      "needs_background": "light"
     },
     "output_type": "display_data"
    }
   ],
   "source": [
    "g1 = np.array([Q.random_genotype( sigma=[1,0.2], method='normal' )      for _ in range(100)])\n",
    "g2 = np.array([Q.random_genotype( sigma=[0.05],  method='exponential' ) for _ in range(100)])\n",
    "g3 = np.array([Q.random_genotype( sigma=[0.5,1], method='uniform' )     for _ in range(100)])\n",
    "xx = np.linspace(0,1,51)\n",
    "\n",
    "\n",
    "plt.figure( figsize=(12,4) )\n",
    "plt.subplot(1,3,1)\n",
    "plt.hist( g1.flatten() ,bins=xx, alpha=0.5, density=True)\n",
    "plt.xlabel('Gene dosage')\n",
    "plt.title('Normal(1,0.2)')\n",
    "\n",
    "plt.subplot(1,3,2)\n",
    "plt.hist( g2.flatten() ,bins=xx, alpha=0.5, density=True)\n",
    "plt.xlabel('Gene dosage')\n",
    "plt.title('Exponential(0.05)')\n",
    "\n",
    "plt.subplot(1,3,3)\n",
    "plt.hist( g3.flatten() ,bins=xx, alpha=0.5, density=True)\n",
    "plt.xlabel('Gene dosage')\n",
    "plt.title('Uniform(0.5, 1)')\n",
    "\n",
    "plt.tight_layout();"
   ]
  },
  {
   "cell_type": "markdown",
   "metadata": {},
   "source": [
    "### 7. Computing individuals and populations\n",
    "\n",
    "Imagine that we would like to compute the biomass production of many random genotypes growing in the standard medium. \n",
    "\n",
    "#### 7.0 Computing individuals by \"hand\""
   ]
  },
  {
   "cell_type": "code",
   "execution_count": 20,
   "metadata": {},
   "outputs": [
    {
     "name": "stdout",
     "output_type": "stream",
     "text": [
      "0.1951349383166596\n"
     ]
    }
   ],
   "source": [
    "# Generate a random genotype\n",
    "genotype = np.random.rand(Q.N_GENES)\n",
    "\n",
    "with Q.model:\n",
    "    # Set medium\n",
    "    Q.model.medium = std_medium\n",
    "\n",
    "    # Set genotype\n",
    "    Q.set_genotype( genotype )\n",
    "\n",
    "    # Apply dosage and compute solution\n",
    "    Q.apply_dosage()\n",
    "    print(Q.slim_optimize())\n"
   ]
  },
  {
   "cell_type": "markdown",
   "metadata": {},
   "source": [
    "#### 7.1 Computing individuals using `Q.compute_individual()`\n",
    "For robustness, we enter a context manager and set the bounds."
   ]
  },
  {
   "cell_type": "code",
   "execution_count": 21,
   "metadata": {},
   "outputs": [
    {
     "name": "stdout",
     "output_type": "stream",
     "text": [
      "0.1951349383166597\n"
     ]
    }
   ],
   "source": [
    "with Q.model:\n",
    "    # We call these for robustness\n",
    "    Q.reset_dosage()\n",
    "    Q.apply_dosage()\n",
    "    \n",
    "    # Compute individual\n",
    "    _mu, _gen, _flx, _med, _wt = Q.compute_individual(genotype, std_medium)\n",
    "print(_mu)"
   ]
  },
  {
   "cell_type": "markdown",
   "metadata": {},
   "source": [
    "#### 7.2 Computing a population \"by hand\"\n",
    "and in standard medium"
   ]
  },
  {
   "cell_type": "code",
   "execution_count": 22,
   "metadata": {},
   "outputs": [
    {
     "name": "stdout",
     "output_type": "stream",
     "text": [
      "Running 10 iterations have taken 1.9 seconds.\n"
     ]
    }
   ],
   "source": [
    "from datetime import datetime\n",
    "\n",
    "NSAMPLES  = 10\n",
    "genotypes = np.random.rand(NSAMPLES, Q.N_GENES)\n",
    "media_list  = [ std_medium for _ in range(NSAMPLES) ]\n",
    "\n",
    "\n",
    "tStart = datetime.now()\n",
    "with Q.model:\n",
    "    Q.reset_dosage()\n",
    "    Q.apply_dosage()\n",
    "    \n",
    "    for jj in range(10):\n",
    "        _mu, _gen, _flx, _med, _wt = Q.compute_individual( genotypes[jj,:] , media_list[jj] )\n",
    "    \n",
    "        \n",
    "tTotal = (datetime.now()-tStart).total_seconds()\n",
    "print('Running %d iterations have taken %1.1f seconds.' % (NSAMPLES, tTotal) )"
   ]
  },
  {
   "cell_type": "markdown",
   "metadata": {},
   "source": [
    "#### 7.2 Computing a population using `Q.compute_population()` in a parallel\n",
    "and in standard medium"
   ]
  },
  {
   "cell_type": "code",
   "execution_count": 23,
   "metadata": {},
   "outputs": [
    {
     "name": "stdout",
     "output_type": "stream",
     "text": [
      "Computing population of 10 samples...\n"
     ]
    },
    {
     "name": "stderr",
     "output_type": "stream",
     "text": [
      "100%|██████████| 10/10 [00:00<00:00, 16.65it/s]"
     ]
    },
    {
     "name": "stdout",
     "output_type": "stream",
     "text": [
      "Total infeasible from within 0\n",
      "Running 10 iterations have taken 0.9 seconds.\n"
     ]
    },
    {
     "name": "stderr",
     "output_type": "stream",
     "text": [
      "\n"
     ]
    }
   ],
   "source": [
    "NPROCESSORS = 10\n",
    "\n",
    "tStart = datetime.now()\n",
    "with Q.model:\n",
    "    Q.reset_dosage()\n",
    "    Q.apply_dosage()\n",
    "    \n",
    "    _mu, _gen, _flx, _med, _wt = Q.compute_population( genotypes , media_list, nprocessors = NPROCESSORS)\n",
    "    \n",
    "      \n",
    "tTotal = (datetime.now()-tStart).total_seconds()\n",
    "print('Running %d iterations have taken %1.1f seconds.' % (NSAMPLES, tTotal) )"
   ]
  }
 ],
 "metadata": {
  "kernelspec": {
   "display_name": "Python 3",
   "language": "python",
   "name": "python3"
  },
  "language_info": {
   "codemirror_mode": {
    "name": "ipython",
    "version": 3
   },
   "file_extension": ".py",
   "mimetype": "text/x-python",
   "name": "python",
   "nbconvert_exporter": "python",
   "pygments_lexer": "ipython3",
   "version": "3.8.5"
  }
 },
 "nbformat": 4,
 "nbformat_minor": 4
}
